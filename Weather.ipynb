{
 "cells": [
  {
   "cell_type": "code",
   "execution_count": 1,
   "id": "70f2c701",
   "metadata": {},
   "outputs": [],
   "source": [
    "#weather update\n",
    "import requests\n",
    "import json"
   ]
  },
  {
   "cell_type": "code",
   "execution_count": 8,
   "id": "5a15399c",
   "metadata": {},
   "outputs": [
    {
     "name": "stdout",
     "output_type": "stream",
     "text": [
      "Karur\n",
      "the temperature in Karur is 305.05\n",
      "the tamperature in Karur is 305.05\n"
     ]
    }
   ],
   "source": [
    "API_key=\"6ac2a770848e3721f9bc1a635eee3aa7\"\n",
    "city_name=input()\n",
    "url='https://api.openweathermap.org/data/2.5/weather?q=%s&appid=%s'%(city_name,API_key)\n",
    "result=requests.get(url)\n",
    "data=json.loads(result.text)\n",
    "#print(data)\n",
    "print(f\"the temperature in {city_name} is {data['main']['temp']}\")\n",
    "print(\"the tamperature in {}\".format(city_name)+ \" is \" +str(data[\"main\"][\"temp\"]))"
   ]
  },
  {
   "cell_type": "code",
   "execution_count": null,
   "id": "6fd5a4a4",
   "metadata": {},
   "outputs": [],
   "source": []
  },
  {
   "cell_type": "code",
   "execution_count": null,
   "id": "47fe0b12",
   "metadata": {},
   "outputs": [],
   "source": []
  },
  {
   "cell_type": "code",
   "execution_count": null,
   "id": "6c39b69b",
   "metadata": {},
   "outputs": [],
   "source": []
  },
  {
   "cell_type": "code",
   "execution_count": null,
   "id": "cf4773c2",
   "metadata": {},
   "outputs": [],
   "source": []
  },
  {
   "cell_type": "code",
   "execution_count": null,
   "id": "10afdfa8",
   "metadata": {},
   "outputs": [],
   "source": []
  },
  {
   "cell_type": "code",
   "execution_count": null,
   "id": "4a9da890",
   "metadata": {},
   "outputs": [],
   "source": []
  }
 ],
 "metadata": {
  "kernelspec": {
   "display_name": "Python 3 (ipykernel)",
   "language": "python",
   "name": "python3"
  },
  "language_info": {
   "codemirror_mode": {
    "name": "ipython",
    "version": 3
   },
   "file_extension": ".py",
   "mimetype": "text/x-python",
   "name": "python",
   "nbconvert_exporter": "python",
   "pygments_lexer": "ipython3",
   "version": "3.11.4"
  }
 },
 "nbformat": 4,
 "nbformat_minor": 5
}
