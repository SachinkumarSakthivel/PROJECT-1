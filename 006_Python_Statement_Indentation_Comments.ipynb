{
 "cells": [
  {
   "cell_type": "markdown",
   "metadata": {},
   "source": [
    "# Python Statement, Indentation and Comments\n",
    "\n",
    "In this class, you will learn about Python statements, why indentation is important and use of comments in programming."
   ]
  },
  {
   "cell_type": "markdown",
   "metadata": {},
   "source": [
    "## 1. Python Statement\n",
    "\n",
    "Instructions that a Python interpreter can execute are called statements. For example, **`a = 1`** is an assignment statement. **`if`** statement, **`for`** statement, **`while`** statement, etc. are other kinds of statements which will be discussed later."
   ]
  },
  {
   "cell_type": "markdown",
   "metadata": {},
   "source": [
    "### Multi-line statement\n",
    "\n",
    "In Python, the end of a statement is marked by a newline character. But we can make a statement extend over multiple lines with the line continuation character **`\\`**.\n",
    "\n",
    "* Statements finish at the end of the line:\n",
    "  * Except when there is an open bracket or paranthesis:\n",
    "  \n",
    "```python\n",
    ">>> 1+2\n",
    ">>> +3  #illegal continuation of the sum\n",
    "```\n",
    "  * A single backslash at the end of the line can also be used to indicate that a statement is still incomplete  \n",
    "  \n",
    "```python\n",
    ">>> 1 + \\\n",
    ">>>    2 + 3 # this is also okay\n",
    "```\n",
    "\n",
    "For example:"
   ]
  },
  {
   "cell_type": "code",
   "execution_count": 1,
   "metadata": {},
   "outputs": [
    {
     "name": "stdout",
     "output_type": "stream",
     "text": [
      "3\n"
     ]
    }
   ],
   "source": [
    "a= 3\n",
    "print(a)"
   ]
  },
  {
   "cell_type": "code",
   "execution_count": null,
   "metadata": {},
   "outputs": [],
   "source": [
    "a = slfdhnjksdnf+dsklfnskdf+s,dnskdjnfkdsf+d dfsdfsdf  sdfsdfsd\n",
    "+sdfjnsdjfnksdnfkjs+(jksdjksdbjkfbsdf+kjdfbsdjkbf)+\n",
    "kdjfnsdjknfs(sdfnsdkmfnksdmn)"
   ]
  },
  {
   "cell_type": "code",
   "execution_count": 2,
   "metadata": {},
   "outputs": [
    {
     "data": {
      "text/plain": [
       "45"
      ]
     },
     "execution_count": 2,
     "metadata": {},
     "output_type": "execute_result"
    }
   ],
   "source": [
    "a = 1+2+3+4+5+6+7+8+9\n",
    "a"
   ]
  },
  {
   "cell_type": "code",
   "execution_count": 4,
   "metadata": {},
   "outputs": [],
   "source": [
    "a = 1+2+3\\\n",
    "+4+5+6\\\n",
    "+7+8+9"
   ]
  },
  {
   "cell_type": "code",
   "execution_count": 5,
   "metadata": {},
   "outputs": [
    {
     "data": {
      "text/plain": [
       "45"
      ]
     },
     "execution_count": 5,
     "metadata": {},
     "output_type": "execute_result"
    }
   ],
   "source": [
    "a"
   ]
  },
  {
   "cell_type": "code",
   "execution_count": null,
   "metadata": {},
   "outputs": [],
   "source": [
    "a = (1+2+3\n",
    "+4+5+6\n",
    "+7+8+9)"
   ]
  },
  {
   "cell_type": "code",
   "execution_count": null,
   "metadata": {},
   "outputs": [],
   "source": [
    "a = [1+2+3\n",
    "+4+5+6\n",
    "+7+8+9]"
   ]
  },
  {
   "cell_type": "code",
   "execution_count": null,
   "metadata": {},
   "outputs": [],
   "source": []
  },
  {
   "cell_type": "markdown",
   "metadata": {},
   "source": [
    "## 2. Python Indentation\n",
    "\n",
    "No spaces or tab characters allowed at the start of a statement: Indentation plays a special role in Python (see the section on control statements). For now simply ensure that all statements start at the beginning of the line.\n",
    "\n",
    "<div>\n",
    "<img src=\"img/ind1.png\" width=\"700\"/>\n",
    "</div>\n",
    "\n",
    "Most of the programming languages like C, C++, and Java use braces **`{ }`** to define a block of code. Python, however, uses indentation.\n",
    "\n",
    "A comparison of C & Python will help you understand it better.\n",
    "\n",
    "<div>\n",
    "<img src=\"img/ind2.png\" width=\"700\"/>\n",
    "</div>\n",
    "\n",
    "\n",
    "Generally, four whitespaces are used for indentation and are preferred over tabs. Here is an example.\n",
    "\n",
    "> **In the case of Python, indentation is not for styling purpose. It is rather a requirement for your code to get compiled and executed. Thus it is mandatory!!!**"
   ]
  },
  {
   "cell_type": "code",
   "execution_count": 6,
   "metadata": {},
   "outputs": [
    {
     "name": "stdout",
     "output_type": "stream",
     "text": [
      "hi\n"
     ]
    }
   ],
   "source": [
    "a=9\n",
    "if a==9:\n",
    "    print(\"hi\")"
   ]
  },
  {
   "cell_type": "code",
   "execution_count": 9,
   "metadata": {},
   "outputs": [
    {
     "name": "stdout",
     "output_type": "stream",
     "text": [
      "hi\n"
     ]
    }
   ],
   "source": [
    "b= 56\n",
    "if b>=50:\n",
    "    print(\"hi\")"
   ]
  },
  {
   "cell_type": "code",
   "execution_count": null,
   "metadata": {},
   "outputs": [],
   "source": []
  },
  {
   "cell_type": "code",
   "execution_count": null,
   "metadata": {},
   "outputs": [],
   "source": []
  },
  {
   "cell_type": "code",
   "execution_count": null,
   "metadata": {},
   "outputs": [],
   "source": []
  },
  {
   "cell_type": "markdown",
   "metadata": {},
   "source": [
    "## 3. Python Comments\n",
    "\n",
    "Comments are very important while writing a program. They describe what is going on inside a program, so that a person looking at the source code does not have a hard time figuring it out.\n",
    "\n",
    "You might forget the key details of the program you just wrote in a month's time. So taking the time to explain these concepts in the form of comments is always fruitful.\n",
    "\n",
    "In Python, we use the hash **`#`** symbol to start writing a comment.\n",
    "\n",
    "It extends up to the newline character. Comments are for programmers to better understand a program. Python Interpreter ignores comments.\n",
    "\n",
    "Generally, comments will look something like this:\n",
    "\n",
    "```python\n",
    "#This is a Comment\n",
    "```\n",
    "\n",
    "Because comments do not **execute**, when you run a program you will not see any indication of the comment there. Comments are in the source code for **humans** to **read**, not for **computers to execute**."
   ]
  },
  {
   "cell_type": "markdown",
   "metadata": {},
   "source": [
    "### 1. Single lined comment:\n",
    "In case user wants to specify a single line comment, then comment must start with **`#`**.\n",
    "\n",
    "```python\n",
    "#This is single line comment.\n",
    "```"
   ]
  },
  {
   "cell_type": "code",
   "execution_count": 10,
   "metadata": {},
   "outputs": [],
   "source": [
    "#today we are discussing on python topics"
   ]
  },
  {
   "cell_type": "code",
   "execution_count": null,
   "metadata": {},
   "outputs": [],
   "source": []
  },
  {
   "cell_type": "markdown",
   "metadata": {},
   "source": [
    "### 2. Inline comments\n",
    "If a comment is placed on the same line as a statement, it is called an inline comment. Similar to the block comment, an inline comment begins with a single hash (#) sign and followed by a space and comment.\n",
    "\n",
    "It is recommended that an inline comment should separate from the statement at least **two spaces**. The following example demonstrates an inline comment\n",
    "\n",
    "```python\n",
    ">>>n+=1  # increase/add n by 1\n",
    "```"
   ]
  },
  {
   "cell_type": "code",
   "execution_count": 11,
   "metadata": {},
   "outputs": [],
   "source": [
    "first_name = \"ajantha\" # this is the first name of the user"
   ]
  },
  {
   "cell_type": "code",
   "execution_count": 12,
   "metadata": {},
   "outputs": [
    {
     "data": {
      "text/plain": [
       "'ajantha'"
      ]
     },
     "execution_count": 12,
     "metadata": {},
     "output_type": "execute_result"
    }
   ],
   "source": [
    "first_name"
   ]
  },
  {
   "cell_type": "code",
   "execution_count": null,
   "metadata": {},
   "outputs": [],
   "source": []
  },
  {
   "cell_type": "code",
   "execution_count": null,
   "metadata": {},
   "outputs": [],
   "source": []
  },
  {
   "cell_type": "markdown",
   "metadata": {},
   "source": [
    "### 3. Multi lined comment:\n",
    "\n",
    "We can have comments that extend up to multiple lines. One way is to use the hash **`#`** symbol at the beginning of each line. For example:"
   ]
  },
  {
   "cell_type": "code",
   "execution_count": 13,
   "metadata": {},
   "outputs": [],
   "source": [
    "#this is a comment\n",
    "# given in multi line\n",
    "# formate"
   ]
  },
  {
   "cell_type": "code",
   "execution_count": null,
   "metadata": {},
   "outputs": [],
   "source": []
  },
  {
   "cell_type": "code",
   "execution_count": null,
   "metadata": {},
   "outputs": [],
   "source": []
  },
  {
   "cell_type": "markdown",
   "metadata": {},
   "source": [
    "### 4. Docstrings in Python\n",
    "\n",
    "A docstring is short for documentation string.\n",
    "\n",
    "\n",
    "Triple quotes are used while writing docstrings. For example:\n",
    "\n",
    "```python\n",
    ">>>def double(num):\n",
    ">>>    \"\"\"Function to double the value\"\"\"\n",
    ">>>    return 3*num\n",
    "```\n",
    "\n",
    "Docstrings appear right after the definition of a function, class, or a module. This separates docstrings from multiline comments using triple quotes.\n",
    "\n",
    "The docstrings are associated with the object as their **`__doc__`** attribute.\n",
    "\n",
    "So, we can access the docstrings of the above function with the following lines of code:"
   ]
  },
  {
   "cell_type": "code",
   "execution_count": 14,
   "metadata": {},
   "outputs": [],
   "source": [
    "s = \"\"\"\n",
    "this is a \n",
    "multi line \n",
    "variable \n",
    "functionality\n",
    "\"\"\""
   ]
  },
  {
   "cell_type": "code",
   "execution_count": 15,
   "metadata": {},
   "outputs": [
    {
     "data": {
      "text/plain": [
       "'\\nthis is a \\nmulti line \\nvariable \\nfunctionality\\n'"
      ]
     },
     "execution_count": 15,
     "metadata": {},
     "output_type": "execute_result"
    }
   ],
   "source": [
    "s"
   ]
  },
  {
   "cell_type": "code",
   "execution_count": 16,
   "metadata": {},
   "outputs": [],
   "source": [
    "a = \"ajantha\""
   ]
  },
  {
   "cell_type": "code",
   "execution_count": 17,
   "metadata": {},
   "outputs": [
    {
     "data": {
      "text/plain": [
       "'ajantha'"
      ]
     },
     "execution_count": 17,
     "metadata": {},
     "output_type": "execute_result"
    }
   ],
   "source": [
    "a"
   ]
  },
  {
   "cell_type": "code",
   "execution_count": 18,
   "metadata": {},
   "outputs": [],
   "source": [
    "b = 'devi'"
   ]
  },
  {
   "cell_type": "code",
   "execution_count": 19,
   "metadata": {},
   "outputs": [
    {
     "data": {
      "text/plain": [
       "'devi'"
      ]
     },
     "execution_count": 19,
     "metadata": {},
     "output_type": "execute_result"
    }
   ],
   "source": [
    "b"
   ]
  },
  {
   "cell_type": "code",
   "execution_count": 20,
   "metadata": {},
   "outputs": [
    {
     "data": {
      "text/plain": [
       "str"
      ]
     },
     "execution_count": 20,
     "metadata": {},
     "output_type": "execute_result"
    }
   ],
   "source": [
    "type(b)"
   ]
  },
  {
   "cell_type": "code",
   "execution_count": 21,
   "metadata": {},
   "outputs": [
    {
     "data": {
      "text/plain": [
       "str"
      ]
     },
     "execution_count": 21,
     "metadata": {},
     "output_type": "execute_result"
    }
   ],
   "source": [
    "type(s)"
   ]
  },
  {
   "cell_type": "code",
   "execution_count": null,
   "metadata": {},
   "outputs": [],
   "source": []
  },
  {
   "cell_type": "markdown",
   "metadata": {},
   "source": [
    "## Help topics\n",
    "\n",
    "Python has extensive help built in. You can execute **`help()`** for an overview or **`help(x)`** for any library, object or type **`x`**. Try using **`help(\"topics\")`** to get a list of help pages built into the help system.\n",
    "\n",
    "`help(\"topics\")`"
   ]
  },
  {
   "cell_type": "code",
   "execution_count": 22,
   "metadata": {},
   "outputs": [
    {
     "name": "stdout",
     "output_type": "stream",
     "text": [
      "\n",
      "Here is a list of available topics.  Enter any topic name to get more help.\n",
      "\n",
      "ASSERTION           DELETION            LOOPING             SHIFTING\n",
      "ASSIGNMENT          DICTIONARIES        MAPPINGMETHODS      SLICINGS\n",
      "ATTRIBUTEMETHODS    DICTIONARYLITERALS  MAPPINGS            SPECIALATTRIBUTES\n",
      "ATTRIBUTES          DYNAMICFEATURES     METHODS             SPECIALIDENTIFIERS\n",
      "AUGMENTEDASSIGNMENT ELLIPSIS            MODULES             SPECIALMETHODS\n",
      "BASICMETHODS        EXCEPTIONS          NAMESPACES          STRINGMETHODS\n",
      "BINARY              EXECUTION           NONE                STRINGS\n",
      "BITWISE             EXPRESSIONS         NUMBERMETHODS       SUBSCRIPTS\n",
      "BOOLEAN             FLOAT               NUMBERS             TRACEBACKS\n",
      "CALLABLEMETHODS     FORMATTING          OBJECTS             TRUTHVALUE\n",
      "CALLS               FRAMEOBJECTS        OPERATORS           TUPLELITERALS\n",
      "CLASSES             FRAMES              PACKAGES            TUPLES\n",
      "CODEOBJECTS         FUNCTIONS           POWER               TYPEOBJECTS\n",
      "COMPARISON          IDENTIFIERS         PRECEDENCE          TYPES\n",
      "COMPLEX             IMPORTING           PRIVATENAMES        UNARY\n",
      "CONDITIONAL         INTEGER             RETURNING           UNICODE\n",
      "CONTEXTMANAGERS     LISTLITERALS        SCOPING             \n",
      "CONVERSIONS         LISTS               SEQUENCEMETHODS     \n",
      "DEBUGGING           LITERALS            SEQUENCES           \n",
      "\n"
     ]
    }
   ],
   "source": [
    "help(\"topics\")"
   ]
  },
  {
   "cell_type": "code",
   "execution_count": 23,
   "metadata": {},
   "outputs": [
    {
     "name": "stdout",
     "output_type": "stream",
     "text": [
      "Naming and binding\n",
      "******************\n",
      "\n",
      "\n",
      "Binding of names\n",
      "================\n",
      "\n",
      "*Names* refer to objects.  Names are introduced by name binding\n",
      "operations.\n",
      "\n",
      "The following constructs bind names: formal parameters to functions,\n",
      "\"import\" statements, class and function definitions (these bind the\n",
      "class or function name in the defining block), and targets that are\n",
      "identifiers if occurring in an assignment, \"for\" loop header, or after\n",
      "\"as\" in a \"with\" statement or \"except\" clause. The \"import\" statement\n",
      "of the form \"from ... import *\" binds all names defined in the\n",
      "imported module, except those beginning with an underscore.  This form\n",
      "may only be used at the module level.\n",
      "\n",
      "A target occurring in a \"del\" statement is also considered bound for\n",
      "this purpose (though the actual semantics are to unbind the name).\n",
      "\n",
      "Each assignment or import statement occurs within a block defined by a\n",
      "class or function definition or at the module level (the top-level\n",
      "code block).\n",
      "\n",
      "If a name is bound in a block, it is a local variable of that block,\n",
      "unless declared as \"nonlocal\" or \"global\".  If a name is bound at the\n",
      "module level, it is a global variable.  (The variables of the module\n",
      "code block are local and global.)  If a variable is used in a code\n",
      "block but not defined there, it is a *free variable*.\n",
      "\n",
      "Each occurrence of a name in the program text refers to the *binding*\n",
      "of that name established by the following name resolution rules.\n",
      "\n",
      "\n",
      "Resolution of names\n",
      "===================\n",
      "\n",
      "A *scope* defines the visibility of a name within a block.  If a local\n",
      "variable is defined in a block, its scope includes that block.  If the\n",
      "definition occurs in a function block, the scope extends to any blocks\n",
      "contained within the defining one, unless a contained block introduces\n",
      "a different binding for the name.\n",
      "\n",
      "When a name is used in a code block, it is resolved using the nearest\n",
      "enclosing scope.  The set of all such scopes visible to a code block\n",
      "is called the block’s *environment*.\n",
      "\n",
      "When a name is not found at all, a \"NameError\" exception is raised. If\n",
      "the current scope is a function scope, and the name refers to a local\n",
      "variable that has not yet been bound to a value at the point where the\n",
      "name is used, an \"UnboundLocalError\" exception is raised.\n",
      "\"UnboundLocalError\" is a subclass of \"NameError\".\n",
      "\n",
      "If a name binding operation occurs anywhere within a code block, all\n",
      "uses of the name within the block are treated as references to the\n",
      "current block.  This can lead to errors when a name is used within a\n",
      "block before it is bound.  This rule is subtle.  Python lacks\n",
      "declarations and allows name binding operations to occur anywhere\n",
      "within a code block.  The local variables of a code block can be\n",
      "determined by scanning the entire text of the block for name binding\n",
      "operations.\n",
      "\n",
      "If the \"global\" statement occurs within a block, all uses of the names\n",
      "specified in the statement refer to the bindings of those names in the\n",
      "top-level namespace.  Names are resolved in the top-level namespace by\n",
      "searching the global namespace, i.e. the namespace of the module\n",
      "containing the code block, and the builtins namespace, the namespace\n",
      "of the module \"builtins\".  The global namespace is searched first.  If\n",
      "the names are not found there, the builtins namespace is searched.\n",
      "The \"global\" statement must precede all uses of the listed names.\n",
      "\n",
      "The \"global\" statement has the same scope as a name binding operation\n",
      "in the same block.  If the nearest enclosing scope for a free variable\n",
      "contains a global statement, the free variable is treated as a global.\n",
      "\n",
      "The \"nonlocal\" statement causes corresponding names to refer to\n",
      "previously bound variables in the nearest enclosing function scope.\n",
      "\"SyntaxError\" is raised at compile time if the given name does not\n",
      "exist in any enclosing function scope.\n",
      "\n",
      "The namespace for a module is automatically created the first time a\n",
      "module is imported.  The main module for a script is always called\n",
      "\"__main__\".\n",
      "\n",
      "Class definition blocks and arguments to \"exec()\" and \"eval()\" are\n",
      "special in the context of name resolution. A class definition is an\n",
      "executable statement that may use and define names. These references\n",
      "follow the normal rules for name resolution with an exception that\n",
      "unbound local variables are looked up in the global namespace. The\n",
      "namespace of the class definition becomes the attribute dictionary of\n",
      "the class. The scope of names defined in a class block is limited to\n",
      "the class block; it does not extend to the code blocks of methods –\n",
      "this includes comprehensions and generator expressions since they are\n",
      "implemented using a function scope.  This means that the following\n",
      "will fail:\n",
      "\n",
      "   class A:\n",
      "       a = 42\n",
      "       b = list(a + i for i in range(10))\n",
      "\n",
      "\n",
      "Builtins and restricted execution\n",
      "=================================\n",
      "\n",
      "**CPython implementation detail:** Users should not touch\n",
      "\"__builtins__\"; it is strictly an implementation detail.  Users\n",
      "wanting to override values in the builtins namespace should \"import\"\n",
      "the \"builtins\" module and modify its attributes appropriately.\n",
      "\n",
      "The builtins namespace associated with the execution of a code block\n",
      "is actually found by looking up the name \"__builtins__\" in its global\n",
      "namespace; this should be a dictionary or a module (in the latter case\n",
      "the module’s dictionary is used).  By default, when in the \"__main__\"\n",
      "module, \"__builtins__\" is the built-in module \"builtins\"; when in any\n",
      "other module, \"__builtins__\" is an alias for the dictionary of the\n",
      "\"builtins\" module itself.\n",
      "\n",
      "\n",
      "Interaction with dynamic features\n",
      "=================================\n",
      "\n",
      "Name resolution of free variables occurs at runtime, not at compile\n",
      "time. This means that the following code will print 42:\n",
      "\n",
      "   i = 10\n",
      "   def f():\n",
      "       print(i)\n",
      "   i = 42\n",
      "   f()\n",
      "\n",
      "The \"eval()\" and \"exec()\" functions do not have access to the full\n",
      "environment for resolving names.  Names may be resolved in the local\n",
      "and global namespaces of the caller.  Free variables are not resolved\n",
      "in the nearest enclosing namespace, but in the global namespace.  [1]\n",
      "The \"exec()\" and \"eval()\" functions have optional arguments to\n",
      "override the global and local namespace.  If only one namespace is\n",
      "specified, it is used for both.\n",
      "\n",
      "Related help topics: global, nonlocal, ASSIGNMENT, DELETION,\n",
      "DYNAMICFEATURES\n",
      "\n"
     ]
    }
   ],
   "source": [
    "help(\"NAMESPACES\")"
   ]
  },
  {
   "cell_type": "code",
   "execution_count": null,
   "metadata": {},
   "outputs": [],
   "source": []
  }
 ],
 "metadata": {
  "hide_input": false,
  "kernelspec": {
   "display_name": "Python 3 (ipykernel)",
   "language": "python",
   "name": "python3"
  },
  "language_info": {
   "codemirror_mode": {
    "name": "ipython",
    "version": 3
   },
   "file_extension": ".py",
   "mimetype": "text/x-python",
   "name": "python",
   "nbconvert_exporter": "python",
   "pygments_lexer": "ipython3",
   "version": "3.9.13"
  },
  "toc": {
   "base_numbering": 1,
   "nav_menu": {},
   "number_sections": true,
   "sideBar": true,
   "skip_h1_title": false,
   "title_cell": "Table of Contents",
   "title_sidebar": "Contents",
   "toc_cell": false,
   "toc_position": {},
   "toc_section_display": true,
   "toc_window_display": false
  },
  "varInspector": {
   "cols": {
    "lenName": 16,
    "lenType": 16,
    "lenVar": 40
   },
   "kernels_config": {
    "python": {
     "delete_cmd_postfix": "",
     "delete_cmd_prefix": "del ",
     "library": "var_list.py",
     "varRefreshCmd": "print(var_dic_list())"
    },
    "r": {
     "delete_cmd_postfix": ") ",
     "delete_cmd_prefix": "rm(",
     "library": "var_list.r",
     "varRefreshCmd": "cat(var_dic_list()) "
    }
   },
   "types_to_exclude": [
    "module",
    "function",
    "builtin_function_or_method",
    "instance",
    "_Feature"
   ],
   "window_display": false
  }
 },
 "nbformat": 4,
 "nbformat_minor": 2
}
