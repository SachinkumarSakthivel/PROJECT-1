{
  "nbformat": 4,
  "nbformat_minor": 0,
  "metadata": {
    "colab": {
      "provenance": [],
      "authorship_tag": "ABX9TyMn653oamlCOmXu5FbP+z1N",
      "include_colab_link": true
    },
    "kernelspec": {
      "name": "python3",
      "display_name": "Python 3"
    },
    "language_info": {
      "name": "python"
    }
  },
  "cells": [
    {
      "cell_type": "markdown",
      "metadata": {
        "id": "view-in-github",
        "colab_type": "text"
      },
      "source": [
        "<a href=\"https://colab.research.google.com/github/SachinkumarSakthivel/PROJECT-1/blob/main/healtether.ipynb\" target=\"_parent\"><img src=\"https://colab.research.google.com/assets/colab-badge.svg\" alt=\"Open In Colab\"/></a>"
      ]
    },
    {
      "cell_type": "code",
      "execution_count": 12,
      "metadata": {
        "colab": {
          "base_uri": "https://localhost:8080/",
          "height": 211
        },
        "id": "AxJfn4aF2zoI",
        "outputId": "8ee10e51-0a6c-4ae6-fb7e-f2b6c80f42e8"
      },
      "outputs": [
        {
          "output_type": "error",
          "ename": "FileNotFoundError",
          "evalue": "The service account file 'https://drive.google.com/drive/folders/1A0GPGrH7rLlAFNJ-RftYzLp28fJ0kKSU' does not exist. Please check the path.",
          "traceback": [
            "\u001b[0;31m---------------------------------------------------------------------------\u001b[0m",
            "\u001b[0;31mFileNotFoundError\u001b[0m                         Traceback (most recent call last)",
            "\u001b[0;32m<ipython-input-12-32e0ba6c6e4b>\u001b[0m in \u001b[0;36m<cell line: 15>\u001b[0;34m()\u001b[0m\n\u001b[1;32m     14\u001b[0m \u001b[0;31m# Check if the service account file exists\u001b[0m\u001b[0;34m\u001b[0m\u001b[0;34m\u001b[0m\u001b[0m\n\u001b[1;32m     15\u001b[0m \u001b[0;32mif\u001b[0m \u001b[0;32mnot\u001b[0m \u001b[0mos\u001b[0m\u001b[0;34m.\u001b[0m\u001b[0mpath\u001b[0m\u001b[0;34m.\u001b[0m\u001b[0mexists\u001b[0m\u001b[0;34m(\u001b[0m\u001b[0mSERVICE_ACCOUNT_FILE\u001b[0m\u001b[0;34m)\u001b[0m\u001b[0;34m:\u001b[0m\u001b[0;34m\u001b[0m\u001b[0;34m\u001b[0m\u001b[0m\n\u001b[0;32m---> 16\u001b[0;31m     \u001b[0;32mraise\u001b[0m \u001b[0mFileNotFoundError\u001b[0m\u001b[0;34m(\u001b[0m\u001b[0;34mf\"The service account file '{SERVICE_ACCOUNT_FILE}' does not exist. Please check the path.\"\u001b[0m\u001b[0;34m)\u001b[0m\u001b[0;34m\u001b[0m\u001b[0;34m\u001b[0m\u001b[0m\n\u001b[0m\u001b[1;32m     17\u001b[0m \u001b[0;34m\u001b[0m\u001b[0m\n\u001b[1;32m     18\u001b[0m credentials = service_account.Credentials.from_service_account_file(\n",
            "\u001b[0;31mFileNotFoundError\u001b[0m: The service account file 'https://drive.google.com/drive/folders/1A0GPGrH7rLlAFNJ-RftYzLp28fJ0kKSU' does not exist. Please check the path."
          ]
        }
      ],
      "source": [
        "import os\n",
        "import io\n",
        "import requests\n",
        "from google.oauth2 import service_account\n",
        "from googleapiclient.discovery import build\n",
        "from googleapiclient.http import MediaIoBaseDownload\n",
        "from PyPDF2 import PdfFileReader\n",
        "\n",
        "# Step 3: Authenticate and access Google Drive\n",
        "\n",
        "# Load credentials\n",
        "SCOPES = ['https://www.googleapis.com/auth/drive']\n",
        "SERVICE_ACCOUNT_FILE = 'https://drive.google.com/drive/folders/1A0GPGrH7rLlAFNJ-RftYzLp28fJ0kKSU'\n",
        "# Check if the service account file exists\n",
        "if not os.path.exists(SERVICE_ACCOUNT_FILE):\n",
        "    raise FileNotFoundError(f\"The service account file '{SERVICE_ACCOUNT_FILE}' does not exist. Please check the path.\")\n",
        "\n",
        "credentials = service_account.Credentials.from_service_account_file(\n",
        "    SERVICE_ACCOUNT_FILE, scopes=SCOPES)\n",
        "\n",
        "# Create Google Drive API client\n",
        "service = build('drive', 'v3', credentials=credentials)\n",
        "\n",
        "# Function to list files in a Google Drive folder\n",
        "def list_files_in_folder(folder_id):\n",
        "    query = f\"'{folder_id}' in parents and mimeType='application/pdf'\"\n",
        "    results = service.files().list(q=query).execute()\n",
        "    items = results.get('files', [])\n",
        "    return items\n",
        "\n",
        "# Function to download a file from Google Drive\n",
        "def download_file(file_id, file_name):\n",
        "    request = service.files().get_media(fileId=file_id)\n",
        "    fh = io.FileIO(file_name, 'wb')\n",
        "    downloader = MediaIoBaseDownload(fh, request)\n",
        "    done = False\n",
        "    while not done:\n",
        "        status, done = downloader.next_chunk()\n",
        "        print(f\"Download {int(status.progress() * 100)}%.\")\n",
        "    fh.close()\n",
        "\n",
        "# Function to parse PDF files\n",
        "def parse_pdf(file_path):\n",
        "    with open(file_path, 'rb') as f:\n",
        "        reader = PdfFileReader(f)\n",
        "        text = ''\n",
        "        for page in range(reader.numPages):\n",
        "            text += reader.getPage(page).extract_text()\n",
        "    return text\n",
        "\n",
        "# Function to fetch and parse all PDFs in a folder\n",
        "def fetch_and_parse_pdfs(folder_id):\n",
        "    files = list_files_in_folder(folder_id)\n",
        "    for file in files:\n",
        "        file_id = file['id']\n",
        "        file_name = file['name']\n",
        "        print(f\"Downloading {file_name}...\")\n",
        "        download_file(file_id, file_name)\n",
        "        print(f\"Parsing {file_name}...\")\n",
        "        resume_text = parse_pdf(file_name)\n",
        "        print(resume_text)\n",
        "\n",
        "# Example usage\n",
        "folder_id = \"https://drive.google.com/drive/folders/1A0GPGrH7rLlAFNJ-RftYzLp28fJ0kKSU\"\n",
        "fetch_and_parse_pdfs(folder_id)\n"
      ]
    },
    {
      "cell_type": "code",
      "source": [
        "# Resume Data Loader\n",
        "# !pip install PyPDF2\n",
        "# !pip install python-docx\\\n",
        "# !pip install google-auth google-auth-oauthlib google-auth-httplib2 google-api-python-client PyPDF2\n",
        "\n",
        "import requests\n",
        "from PyPDF2 import PdfFileReader\n",
        "import docx\n",
        "\n",
        "def fetch_resume(url):\n",
        "    response = requests.get(url)\n",
        "    filename = url.split('/')[-1]\n",
        "    with open(filename, 'wb') as f:\n",
        "        f.write(response.content)\n",
        "    return filename\n",
        "\n",
        "def parse_pdf(file_path):\n",
        "    with open(file_path, 'rb') as f:\n",
        "        reader = PdfFileReader(f)\n",
        "        text = ''\n",
        "        for page in range(reader.numPages):\n",
        "            text += reader.getPage(page).extract_text()\n",
        "    return text\n",
        "\n",
        "def parse_docx(file_path):\n",
        "    doc = docx.Document(file_path)\n",
        "    text = ''\n",
        "    for para in doc.paragraphs:\n",
        "        text += para.text + '\\n'\n",
        "    return text\n",
        "\n",
        "def parse_resume(file_path):\n",
        "    if file_path.endswith('.pdf'):\n",
        "        return parse_pdf(file_path)\n",
        "    elif file_path.endswith('.docx'):\n",
        "        return parse_docx(file_path)\n",
        "    else:\n",
        "        raise ValueError(\"Unsupported file format\")\n",
        "\n",
        "resume_url = 'https://drive.google.com/file/d/14akVZY0QKo04F3-Ere_vDnIDznfWHaSd/view?usp=drive_link'\n",
        "file_path = fetch_resume(resume_url)\n",
        "resume_text = parse_resume(file_path)\n",
        "print(resume_text"
      ],
      "metadata": {
        "id": "f7QXZUTG6OeQ"
      },
      "execution_count": null,
      "outputs": []
    },
    {
      "cell_type": "markdown",
      "source": [
        "Pre-process Resumes"
      ],
      "metadata": {
        "id": "0IlIYRDL3NYX"
      }
    },
    {
      "cell_type": "code",
      "source": [
        "import re\n",
        "\n",
        "def extract_sections(resume_text):\n",
        "    sections = {\n",
        "        'work_experience': '',\n",
        "        'education': '',\n",
        "        'skills': ''\n",
        "    }\n",
        "\n",
        "    # Simple regex-based extraction (this can be improved)\n",
        "    sections['work_experience'] = re.search(r'Work Experience(.*?)(Education|Skills)', resume_text, re.DOTALL).group(1)\n",
        "    sections['education'] = re.search(r'Education(.*?)(Skills|$)', resume_text, re.DOTALL).group(1)\n",
        "    sections['skills'] = re.search(r'Skills(.*)', resume_text, re.DOTALL).group(1)\n",
        "\n",
        "    return sections\n",
        "\n",
        "resume_sections = extract_sections(resume_text)\n",
        "print(resume_sections)\n"
      ],
      "metadata": {
        "id": "WNypuj_13Qtp"
      },
      "execution_count": null,
      "outputs": []
    },
    {
      "cell_type": "markdown",
      "source": [
        "Create Embeddings"
      ],
      "metadata": {
        "id": "cqIHB0PK3Wu-"
      }
    },
    {
      "cell_type": "code",
      "source": [
        "from sentence_transformers import SentenceTransformer\n",
        "\n",
        "model = SentenceTransformer('all-MiniLM-L6-v2')\n",
        "\n",
        "def create_embeddings(text):\n",
        "    return model.encode(text)\n",
        "\n",
        "embeddings = {section: create_embeddings(text) for section, text in resume_sections.items()}\n",
        "print(embeddings)\n"
      ],
      "metadata": {
        "id": "Eb-WEdMy3UAt"
      },
      "execution_count": null,
      "outputs": []
    },
    {
      "cell_type": "markdown",
      "source": [
        "The Search System"
      ],
      "metadata": {
        "id": "0O2VsSqZ3czq"
      }
    },
    {
      "cell_type": "code",
      "source": [
        "import faiss\n",
        "import numpy as np\n",
        "\n",
        "dimension = 384  # Dimension of the embeddings\n",
        "index = faiss.IndexFlatL2(dimension)\n",
        "\n",
        "def add_to_index(embeddings):\n",
        "    vectors = np.array([embeddings[section] for section in embeddings])\n",
        "    index.add(vectors)\n",
        "\n",
        "add_to_index(embeddings)\n",
        "\n",
        "def search(query):\n",
        "    query_vector = create_embeddings(query)\n",
        "    D, I = index.search(query_vector.reshape(1, -1), k=5)\n",
        "    return I\n",
        "\n",
        "query = \"Python developer with FastAPI experience\"\n",
        "results = search(query)\n",
        "print(results)\n"
      ],
      "metadata": {
        "id": "EbGWGdlx3hE3"
      },
      "execution_count": null,
      "outputs": []
    },
    {
      "cell_type": "markdown",
      "source": [
        "The Front-end"
      ],
      "metadata": {
        "id": "phgKq3Bc3kjm"
      }
    },
    {
      "cell_type": "code",
      "source": [
        "import streamlit as st\n",
        "\n",
        "st.title('Resume Semantic Search')\n",
        "\n",
        "query = st.text_input('Enter your search query:')\n",
        "if query:\n",
        "    results = search(query)\n",
        "    st.write(f'Results: {results}')\n"
      ],
      "metadata": {
        "id": "MKA9-mCR3qJR"
      },
      "execution_count": null,
      "outputs": []
    }
  ]
}